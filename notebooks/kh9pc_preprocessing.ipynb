{
 "cells": [
  {
   "cell_type": "code",
   "execution_count": 1,
   "id": "2200e667",
   "metadata": {},
   "outputs": [],
   "source": [
    "%load_ext autoreload\n",
    "%autoreload 2"
   ]
  },
  {
   "cell_type": "code",
   "execution_count": null,
   "id": "8de570a9",
   "metadata": {},
   "outputs": [],
   "source": [
    "import hipp"
   ]
  },
  {
   "cell_type": "code",
   "execution_count": null,
   "id": "ded6192b",
   "metadata": {},
   "outputs": [],
   "source": [
    "!rsync -avz ige-calcul1:/mnt/summer/USERS/DEHECQA/history/casa_grande/kh9_pc_images/1978_03_25/raw_images/ /home/godinlu/Documents/history-dataset-v2/casa_grande/kh9pc/1978_03_25/raw_images/"
   ]
  },
  {
   "cell_type": "code",
   "execution_count": 16,
   "id": "38698b16",
   "metadata": {},
   "outputs": [
    {
     "name": "stdout",
     "output_type": "stream",
     "text": [
      "\n",
      "Mosaicking /home/godinlu/Documents/history-dataset-v2/casa_grande/kh9pc/1978_03_25/joined_images/D3C1214-100097F013.tif with 10 tiles...\n",
      "\n",
      "image_mosaic /home/godinlu/Documents/history-dataset-v2/casa_grande/kh9pc/1978_03_25/raw_images/D3C1214-100097F013_a.tif /home/godinlu/Documents/history-dataset-v2/casa_grande/kh9pc/1978_03_25/raw_images/D3C1214-100097F013_b.tif /home/godinlu/Documents/history-dataset-v2/casa_grande/kh9pc/1978_03_25/raw_images/D3C1214-100097F013_c.tif /home/godinlu/Documents/history-dataset-v2/casa_grande/kh9pc/1978_03_25/raw_images/D3C1214-100097F013_d.tif /home/godinlu/Documents/history-dataset-v2/casa_grande/kh9pc/1978_03_25/raw_images/D3C1214-100097F013_e.tif /home/godinlu/Documents/history-dataset-v2/casa_grande/kh9pc/1978_03_25/raw_images/D3C1214-100097F013_f.tif /home/godinlu/Documents/history-dataset-v2/casa_grande/kh9pc/1978_03_25/raw_images/D3C1214-100097F013_g.tif /home/godinlu/Documents/history-dataset-v2/casa_grande/kh9pc/1978_03_25/raw_images/D3C1214-100097F013_h.tif /home/godinlu/Documents/history-dataset-v2/casa_grande/kh9pc/1978_03_25/raw_images/D3C1214-100097F013_i.tif /home/godinlu/Documents/history-dataset-v2/casa_grande/kh9pc/1978_03_25/raw_images/D3C1214-100097F013_j.tif --ot byte --overlap-width 3000 --threads 0 -o /home/godinlu/Documents/history-dataset-v2/casa_grande/kh9pc/1978_03_25/joined_images/D3C1214-100097F013.tif\n",
      "\n",
      "Mosaicking /home/godinlu/Documents/history-dataset-v2/casa_grande/kh9pc/1978_03_25/joined_images/D3C1214-100097A013.tif with 10 tiles...\n",
      "\n",
      "image_mosaic /home/godinlu/Documents/history-dataset-v2/casa_grande/kh9pc/1978_03_25/raw_images/D3C1214-100097A013_a.tif /home/godinlu/Documents/history-dataset-v2/casa_grande/kh9pc/1978_03_25/raw_images/D3C1214-100097A013_b.tif /home/godinlu/Documents/history-dataset-v2/casa_grande/kh9pc/1978_03_25/raw_images/D3C1214-100097A013_c.tif /home/godinlu/Documents/history-dataset-v2/casa_grande/kh9pc/1978_03_25/raw_images/D3C1214-100097A013_d.tif /home/godinlu/Documents/history-dataset-v2/casa_grande/kh9pc/1978_03_25/raw_images/D3C1214-100097A013_e.tif /home/godinlu/Documents/history-dataset-v2/casa_grande/kh9pc/1978_03_25/raw_images/D3C1214-100097A013_f.tif /home/godinlu/Documents/history-dataset-v2/casa_grande/kh9pc/1978_03_25/raw_images/D3C1214-100097A013_g.tif /home/godinlu/Documents/history-dataset-v2/casa_grande/kh9pc/1978_03_25/raw_images/D3C1214-100097A013_h.tif /home/godinlu/Documents/history-dataset-v2/casa_grande/kh9pc/1978_03_25/raw_images/D3C1214-100097A013_i.tif /home/godinlu/Documents/history-dataset-v2/casa_grande/kh9pc/1978_03_25/raw_images/D3C1214-100097A013_j.tif --ot byte --overlap-width 3000 --threads 0 -o /home/godinlu/Documents/history-dataset-v2/casa_grande/kh9pc/1978_03_25/joined_images/D3C1214-100097A013.tif\n",
      "\n",
      "Mosaicking /home/godinlu/Documents/history-dataset-v2/casa_grande/kh9pc/1978_03_25/joined_images/D3C1214-100097F012.tif with 10 tiles...\n",
      "\n",
      "image_mosaic /home/godinlu/Documents/history-dataset-v2/casa_grande/kh9pc/1978_03_25/raw_images/D3C1214-100097F012_a.tif /home/godinlu/Documents/history-dataset-v2/casa_grande/kh9pc/1978_03_25/raw_images/D3C1214-100097F012_b.tif /home/godinlu/Documents/history-dataset-v2/casa_grande/kh9pc/1978_03_25/raw_images/D3C1214-100097F012_c.tif /home/godinlu/Documents/history-dataset-v2/casa_grande/kh9pc/1978_03_25/raw_images/D3C1214-100097F012_d.tif /home/godinlu/Documents/history-dataset-v2/casa_grande/kh9pc/1978_03_25/raw_images/D3C1214-100097F012_e.tif /home/godinlu/Documents/history-dataset-v2/casa_grande/kh9pc/1978_03_25/raw_images/D3C1214-100097F012_f.tif /home/godinlu/Documents/history-dataset-v2/casa_grande/kh9pc/1978_03_25/raw_images/D3C1214-100097F012_g.tif /home/godinlu/Documents/history-dataset-v2/casa_grande/kh9pc/1978_03_25/raw_images/D3C1214-100097F012_h.tif /home/godinlu/Documents/history-dataset-v2/casa_grande/kh9pc/1978_03_25/raw_images/D3C1214-100097F012_i.tif /home/godinlu/Documents/history-dataset-v2/casa_grande/kh9pc/1978_03_25/raw_images/D3C1214-100097F012_j.tif --ot byte --overlap-width 3000 --threads 0 -o /home/godinlu/Documents/history-dataset-v2/casa_grande/kh9pc/1978_03_25/joined_images/D3C1214-100097F012.tif\n",
      "\n",
      "Mosaicking /home/godinlu/Documents/history-dataset-v2/casa_grande/kh9pc/1978_03_25/joined_images/D3C1214-100097F014.tif with 12 tiles...\n",
      "\n",
      "image_mosaic /home/godinlu/Documents/history-dataset-v2/casa_grande/kh9pc/1978_03_25/raw_images/D3C1214-100097F014_a.tif /home/godinlu/Documents/history-dataset-v2/casa_grande/kh9pc/1978_03_25/raw_images/D3C1214-100097F014_b.tif /home/godinlu/Documents/history-dataset-v2/casa_grande/kh9pc/1978_03_25/raw_images/D3C1214-100097F014_c.tif /home/godinlu/Documents/history-dataset-v2/casa_grande/kh9pc/1978_03_25/raw_images/D3C1214-100097F014_d.tif /home/godinlu/Documents/history-dataset-v2/casa_grande/kh9pc/1978_03_25/raw_images/D3C1214-100097F014_e.tif /home/godinlu/Documents/history-dataset-v2/casa_grande/kh9pc/1978_03_25/raw_images/D3C1214-100097F014_f.tif /home/godinlu/Documents/history-dataset-v2/casa_grande/kh9pc/1978_03_25/raw_images/D3C1214-100097F014_g.tif /home/godinlu/Documents/history-dataset-v2/casa_grande/kh9pc/1978_03_25/raw_images/D3C1214-100097F014_h.tif /home/godinlu/Documents/history-dataset-v2/casa_grande/kh9pc/1978_03_25/raw_images/D3C1214-100097F014_i.tif /home/godinlu/Documents/history-dataset-v2/casa_grande/kh9pc/1978_03_25/raw_images/D3C1214-100097F014_j.tif /home/godinlu/Documents/history-dataset-v2/casa_grande/kh9pc/1978_03_25/raw_images/D3C1214-100097F014_k.tif /home/godinlu/Documents/history-dataset-v2/casa_grande/kh9pc/1978_03_25/raw_images/D3C1214-100097F014_l.tif --ot byte --overlap-width 3000 --threads 0 -o /home/godinlu/Documents/history-dataset-v2/casa_grande/kh9pc/1978_03_25/joined_images/D3C1214-100097F014.tif\n",
      "\n",
      "Mosaicking /home/godinlu/Documents/history-dataset-v2/casa_grande/kh9pc/1978_03_25/joined_images/D3C1214-100097A015.tif with 12 tiles...\n",
      "\n",
      "image_mosaic /home/godinlu/Documents/history-dataset-v2/casa_grande/kh9pc/1978_03_25/raw_images/D3C1214-100097A015_a.tif /home/godinlu/Documents/history-dataset-v2/casa_grande/kh9pc/1978_03_25/raw_images/D3C1214-100097A015_b.tif /home/godinlu/Documents/history-dataset-v2/casa_grande/kh9pc/1978_03_25/raw_images/D3C1214-100097A015_c.tif /home/godinlu/Documents/history-dataset-v2/casa_grande/kh9pc/1978_03_25/raw_images/D3C1214-100097A015_d.tif /home/godinlu/Documents/history-dataset-v2/casa_grande/kh9pc/1978_03_25/raw_images/D3C1214-100097A015_e.tif /home/godinlu/Documents/history-dataset-v2/casa_grande/kh9pc/1978_03_25/raw_images/D3C1214-100097A015_f.tif /home/godinlu/Documents/history-dataset-v2/casa_grande/kh9pc/1978_03_25/raw_images/D3C1214-100097A015_g.tif /home/godinlu/Documents/history-dataset-v2/casa_grande/kh9pc/1978_03_25/raw_images/D3C1214-100097A015_h.tif /home/godinlu/Documents/history-dataset-v2/casa_grande/kh9pc/1978_03_25/raw_images/D3C1214-100097A015_i.tif /home/godinlu/Documents/history-dataset-v2/casa_grande/kh9pc/1978_03_25/raw_images/D3C1214-100097A015_j.tif /home/godinlu/Documents/history-dataset-v2/casa_grande/kh9pc/1978_03_25/raw_images/D3C1214-100097A015_k.tif /home/godinlu/Documents/history-dataset-v2/casa_grande/kh9pc/1978_03_25/raw_images/D3C1214-100097A015_l.tif --ot byte --overlap-width 3000 --threads 0 -o /home/godinlu/Documents/history-dataset-v2/casa_grande/kh9pc/1978_03_25/joined_images/D3C1214-100097A015.tif\n",
      "\n",
      "Mosaicking /home/godinlu/Documents/history-dataset-v2/casa_grande/kh9pc/1978_03_25/joined_images/D3C1214-100097A014.tif with 10 tiles...\n",
      "\n",
      "image_mosaic /home/godinlu/Documents/history-dataset-v2/casa_grande/kh9pc/1978_03_25/raw_images/D3C1214-100097A014_a.tif /home/godinlu/Documents/history-dataset-v2/casa_grande/kh9pc/1978_03_25/raw_images/D3C1214-100097A014_b.tif /home/godinlu/Documents/history-dataset-v2/casa_grande/kh9pc/1978_03_25/raw_images/D3C1214-100097A014_c.tif /home/godinlu/Documents/history-dataset-v2/casa_grande/kh9pc/1978_03_25/raw_images/D3C1214-100097A014_d.tif /home/godinlu/Documents/history-dataset-v2/casa_grande/kh9pc/1978_03_25/raw_images/D3C1214-100097A014_e.tif /home/godinlu/Documents/history-dataset-v2/casa_grande/kh9pc/1978_03_25/raw_images/D3C1214-100097A014_f.tif /home/godinlu/Documents/history-dataset-v2/casa_grande/kh9pc/1978_03_25/raw_images/D3C1214-100097A014_g.tif /home/godinlu/Documents/history-dataset-v2/casa_grande/kh9pc/1978_03_25/raw_images/D3C1214-100097A014_h.tif /home/godinlu/Documents/history-dataset-v2/casa_grande/kh9pc/1978_03_25/raw_images/D3C1214-100097A014_i.tif /home/godinlu/Documents/history-dataset-v2/casa_grande/kh9pc/1978_03_25/raw_images/D3C1214-100097A014_j.tif --ot byte --overlap-width 3000 --threads 0 -o /home/godinlu/Documents/history-dataset-v2/casa_grande/kh9pc/1978_03_25/joined_images/D3C1214-100097A014.tif\n"
     ]
    }
   ],
   "source": [
    "images_directory = \"/home/godinlu/Documents/history-dataset-v2/casa_grande/kh9pc/1978_03_25/raw_images\"\n",
    "output_directory = \"/home/godinlu/Documents/history-dataset-v2/casa_grande/kh9pc/1978_03_25/joined_images\"\n",
    "\n",
    "hipp.kh9pc.join_images(images_directory, output_directory, dryrun=True)"
   ]
  }
 ],
 "metadata": {
  "kernelspec": {
   "display_name": "Python (hipp)",
   "language": "python",
   "name": "hipp"
  },
  "language_info": {
   "codemirror_mode": {
    "name": "ipython",
    "version": 3
   },
   "file_extension": ".py",
   "mimetype": "text/x-python",
   "name": "python",
   "nbconvert_exporter": "python",
   "pygments_lexer": "ipython3",
   "version": "3.12.2"
  }
 },
 "nbformat": 4,
 "nbformat_minor": 5
}
