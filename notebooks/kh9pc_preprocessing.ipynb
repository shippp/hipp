{
 "cells": [
  {
   "cell_type": "code",
   "execution_count": 1,
   "id": "2200e667",
   "metadata": {},
   "outputs": [],
   "source": [
    "%load_ext autoreload\n",
    "%autoreload 2"
   ]
  },
  {
   "cell_type": "code",
   "execution_count": 5,
   "id": "8de570a9",
   "metadata": {},
   "outputs": [],
   "source": [
    "import hipp\n",
    "import os\n",
    "import usgsxplore"
   ]
  },
  {
   "cell_type": "markdown",
   "id": "dba530b7",
   "metadata": {},
   "source": [
    "## Settings"
   ]
  },
  {
   "cell_type": "code",
   "execution_count": 3,
   "id": "a5fc7917",
   "metadata": {},
   "outputs": [],
   "source": [
    "# Paths\n",
    "PROJECT_DIRECTORY = \"data/kh9pc\"\n",
    "RAW_IMAGES = os.path.join(PROJECT_DIRECTORY, \"raw_images\")\n",
    "JOINED_IMAGES = os.path.join(PROJECT_DIRECTORY, \"joined_images\")\n",
    "PREPROCESSED_IMAGES = os.path.join(PROJECT_DIRECTORY, \"preprocessed_images\")\n",
    "CROPPING_BORDERS_FILE = os.path.join(PROJECT_DIRECTORY, \"cropping_borders.csv\")\n",
    "\n",
    "QUICKVIEW_FACTOR = 0.05"
   ]
  },
  {
   "cell_type": "markdown",
   "id": "061b9125",
   "metadata": {},
   "source": [
    "## Step 1 : Download raw images\n",
    "\n",
    "To download the raw images we will use [`usgsxplore`](https://github.com/adehecq/usgs_explorer) which is an python interface to the [USGS M2M API](https://m2m.cr.usgs.gov/) to search and download data available from the [Earth Explorer](https://earthexplorer.usgs.gov/) platform.\n",
    "We will download 2 images and each image is separated in 10 or 12 parts : `_a`, `_b`, `_c`, ...\n",
    "The total downloading size is 16 Go, so it can take a will. Further more, the stagging links from the [USGS M2M API](https://m2m.cr.usgs.gov/) can take some time.\n",
    "The downloading include already the extracting of tif files."
   ]
  },
  {
   "cell_type": "code",
   "execution_count": 4,
   "id": "b3a37e8e",
   "metadata": {},
   "outputs": [],
   "source": [
    "username = os.getenv(\"USGS_USERNAME\") or input(\"Enter your USGS username: \")\n",
    "token = os.getenv(\"USGS_TOKEN\") or input(\"Enter your USGS token: \")\n",
    "\n",
    "entity_ids = [\"D3C1214-100097A014\", \"D3C1214-100097A015\"]\n",
    "\n",
    "api = usgsxplore.API(username, token)\n",
    "api.download(\"declassiii\", entity_ids, output_dir=RAW_IMAGES)\n",
    "api.logout()"
   ]
  },
  {
   "cell_type": "code",
   "execution_count": null,
   "id": "f19e0734",
   "metadata": {},
   "outputs": [],
   "source": [
    "hipp.tools.optimize_geotifs(RAW_IMAGES)\n",
    "hipp.tools.generate_quickviews(RAW_IMAGES, QUICKVIEW_FACTOR, max_workers=8)"
   ]
  },
  {
   "cell_type": "markdown",
   "id": "f101c03b",
   "metadata": {},
   "source": [
    "## Step 2 : Joining Images\n",
    "\n",
    "The first step of the preprocessing pipeline is to **join multiple image tiles** into a single, continuous image. This process is necessary because **KH9 PC images are typically split into 10-12 separate parts**, each approximately **1 GB in size**, due to their large original resolution.\n",
    "\n",
    "However, **joining these image parts is not straightforward**, primarily because there is a **slight overlap between adjacent tiles**. \n",
    "\n",
    "To accurately reconstruct the full image, we need to perform the following steps:\n",
    "\n",
    "1. **Detect keypoints (interest points)** along the **right border** of the first image part.\n",
    "2. Detect corresponding keypoints along the **left border** of the next image part.\n",
    "3. **Match these keypoints** using a feature-matching algorithm to find candidate correspondences.\n",
    "4. Use **RANSAC (Random Sample Consensus)** to filter out mismatched or erroneous correspondences (i.e., outliers).\n",
    "5. Estimate a **relative geometric transformation** (typically a translation or affine transform) to correctly align the second image with the first.\n",
    "6. Apply this transformation and **merge the two parts** into a larger composite image.\n",
    "\n",
    "This process is repeated sequentially for all image parts, progressively building up the full image mosaic.\n",
    "\n",
    "To perform that 2 functions exists:\n",
    "- `join_images_asp` (recommanded) : which will use [`image_mosaic`](https://stereopipeline.readthedocs.io/en/latest/tools/image_mosaic.html) program from Ames Stereo Pipeline. This function is much more safer but it requiered to install ASP and the command need to be visible in your path.\n",
    "- `join_images` (beta) : is a pure Python implementation that replicates the same processing steps, but currently lacks blending in overlapping regions.\n"
   ]
  },
  {
   "cell_type": "code",
   "execution_count": null,
   "id": "38698b16",
   "metadata": {},
   "outputs": [
    {
     "name": "stdout",
     "output_type": "stream",
     "text": [
      "Skipping data/kh9pc/joined_images/D3C1214-100097A014.tif: output already exists\n",
      "Skipping data/kh9pc/joined_images/D3C1214-100097A015.tif: output already exists\n"
     ]
    },
    {
     "name": "stderr",
     "output_type": "stream",
     "text": [
      "Generating quickviews: 100%|██████████| 1/1 [00:29<00:00, 29.94s/image]\n"
     ]
    }
   ],
   "source": [
    "hipp.kh9pc.join_images_asp(RAW_IMAGES, JOINED_IMAGES)\n",
    "\n",
    "#hipp.kh9pc.join_images(RAW_IMAGES, JOINED_IMAGES)\n",
    "\n",
    "hipp.tools.generate_quickviews(JOINED_IMAGES, QUICKVIEW_FACTOR, max_workers=8)"
   ]
  },
  {
   "cell_type": "markdown",
   "id": "80946cfb",
   "metadata": {},
   "source": [
    "## Step 3 : Define manualy all cropping points\n",
    "\n",
    "The function `hipp.kh9pc.select_all_cropping_points` allow you to manually select corners of the region of interest.\n",
    "- Split each image with 5 x 20 blocks (parameters `grid_shape`)\n",
    "- open each corners block in an interactive window where you can Ctrl + Click on the corner\n",
    "- save all results in the csv file (`csv_file`)\n",
    "\n",
    "**Note** :\n",
    "- This function dont overwrite existing data in the csv file (if existing)"
   ]
  },
  {
   "cell_type": "code",
   "execution_count": null,
   "id": "65f83e00",
   "metadata": {},
   "outputs": [],
   "source": [
    "hipp.kh9pc.select_all_cropping_points(JOINED_IMAGES, CROPPING_BORDERS_FILE)"
   ]
  },
  {
   "cell_type": "markdown",
   "id": "777e7c19",
   "metadata": {},
   "source": [
    "## Step 4 : Cropping image to remove borders\n",
    "\n",
    "With the previously generated cropping points, we can use the `hipp.kh9pc.crop_images` to finish the preprocessing.\n",
    "For each image in the input directory, this function looks up its corresponding cropping points in the CSV file, rotates the image to align the top edge, crops it accordingly, and saves the result in the output directory.\n",
    "\n",
    "**Note :**\n",
    "\n",
    "- Images will have different size according to their coresponding croppings points\n"
   ]
  },
  {
   "cell_type": "code",
   "execution_count": 11,
   "id": "307069d6",
   "metadata": {},
   "outputs": [
    {
     "name": "stderr",
     "output_type": "stream",
     "text": [
      "Generating quickviews: 100%|██████████| 2/2 [00:37<00:00, 18.54s/image]\n"
     ]
    }
   ],
   "source": [
    "#hipp.kh9pc.crop_images(JOINED_IMAGES, CROPPING_BORDERS_FILE, PREPROCESSED_IMAGES)\n",
    "hipp.tools.generate_quickviews(PREPROCESSED_IMAGES, QUICKVIEW_FACTOR)"
   ]
  }
 ],
 "metadata": {
  "kernelspec": {
   "display_name": "Python (hipp)",
   "language": "python",
   "name": "hipp"
  },
  "language_info": {
   "codemirror_mode": {
    "name": "ipython",
    "version": 3
   },
   "file_extension": ".py",
   "mimetype": "text/x-python",
   "name": "python",
   "nbconvert_exporter": "python",
   "pygments_lexer": "ipython3",
   "version": "3.12.2"
  }
 },
 "nbformat": 4,
 "nbformat_minor": 5
}
