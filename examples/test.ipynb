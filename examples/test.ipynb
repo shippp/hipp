{
 "cells": [
  {
   "cell_type": "code",
   "execution_count": 1,
   "metadata": {},
   "outputs": [],
   "source": [
    "%load_ext autoreload\n",
    "%autoreload 2"
   ]
  },
  {
   "cell_type": "code",
   "execution_count": 2,
   "metadata": {},
   "outputs": [],
   "source": [
    "import hipp"
   ]
  },
  {
   "cell_type": "code",
   "execution_count": 3,
   "metadata": {},
   "outputs": [],
   "source": [
    "images_dir = \"/home/godinlu/Documents/history-dataset/1978_09_06_aerial/raw_images/\"\n",
    "\n",
    "preproc = hipp.AerialPreprocessing(images_dir)"
   ]
  },
  {
   "cell_type": "code",
   "execution_count": 4,
   "metadata": {},
   "outputs": [],
   "source": [
    "preproc.create_fiducial_template(corner=True, distance_around_fiducial=70)"
   ]
  },
  {
   "cell_type": "code",
   "execution_count": 5,
   "metadata": {},
   "outputs": [],
   "source": [
    "preproc.create_fiducial_template(midside=True, distance_around_fiducial=70)"
   ]
  },
  {
   "cell_type": "code",
   "execution_count": 8,
   "metadata": {},
   "outputs": [
    {
     "name": "stderr",
     "output_type": "stream",
     "text": [
      "Fiducials detection:   0%|          | 0/37 [00:00<?, ?it/s]"
     ]
    },
    {
     "name": "stderr",
     "output_type": "stream",
     "text": [
      "Fiducials detection: 100%|██████████| 37/37 [00:08<00:00,  4.32it/s]\n"
     ]
    }
   ],
   "source": [
    "results = preproc.detect_fiducials(grid_size=7, max_workers=5)"
   ]
  }
 ],
 "metadata": {
  "kernelspec": {
   "display_name": "Python (hipp)",
   "language": "python",
   "name": "hipp"
  },
  "language_info": {
   "codemirror_mode": {
    "name": "ipython",
    "version": 3
   },
   "file_extension": ".py",
   "mimetype": "text/x-python",
   "name": "python",
   "nbconvert_exporter": "python",
   "pygments_lexer": "ipython3",
   "version": "3.12.2"
  }
 },
 "nbformat": 4,
 "nbformat_minor": 2
}
